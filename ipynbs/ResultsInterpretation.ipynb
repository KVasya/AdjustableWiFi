{
 "cells": [
  {
   "cell_type": "markdown",
   "id": "1f6a30a1",
   "metadata": {},
   "source": [
    "# Results interpretation\n"
   ]
  },
  {
   "cell_type": "code",
   "execution_count": 264,
   "id": "a4383ca9",
   "metadata": {},
   "outputs": [],
   "source": [
    "import sklearn\n",
    "\n",
    "import gpflow, pickle\n",
    "import numpy as np\n",
    "from sklearn import preprocessing\n",
    "\n",
    "import os, sys\n",
    "\n",
    "sys.path.append('../')\n",
    "\n",
    "from gpflow_wrapper import GPMaximizer"
   ]
  },
  {
   "cell_type": "code",
   "execution_count": 265,
   "id": "6cfcf891",
   "metadata": {},
   "outputs": [],
   "source": [
    "from collections import OrderedDict"
   ]
  },
  {
   "cell_type": "code",
   "execution_count": 266,
   "id": "1862126d",
   "metadata": {},
   "outputs": [],
   "source": [
    "import matplotlib.pyplot as plt\n",
    "%matplotlib inline"
   ]
  },
  {
   "cell_type": "code",
   "execution_count": 267,
   "id": "f6c6a488",
   "metadata": {},
   "outputs": [],
   "source": [
    "last_file = sorted(os.listdir('../logs'))[-1]\n",
    "with open('../logs//'+last_file, 'r') as f:\n",
    "    read_lines = f.read()"
   ]
  },
  {
   "cell_type": "code",
   "execution_count": 268,
   "id": "6de8ccc4",
   "metadata": {},
   "outputs": [],
   "source": [
    "delim1 = 'INFO:root:init:system_params:'\n",
    "delim2 = 'INFO:root:init:channel_rates:'\n",
    "delim3 = 'INFO:root:init:model_params:'\n",
    "delim4 = 'INFO:root:sequential:channel_rates='\n",
    "delim5 = 'INFO:root:sequential:system_params='\n",
    "delim6 = 'INFO:root:sequential:model_qualities='\n",
    "\n",
    "\n",
    "X_init = np.vstack(eval(read_lines.split(delim1)[1].split(delim2)[0].replace('\\n','').replace('array', 'np.array')) )\n",
    "Y_init = np.array(eval(read_lines.split(delim3)[0].split(delim2)[1].replace('\\n','')))\n",
    "\n",
    "\n",
    "\n",
    "\n",
    "\n",
    "\n",
    "param_bounds_dict = OrderedDict({\n",
    "                                        'freq':  (2.457E09,), # frequency is fixed for smooth kernel to work #(2.4E09, 2.5E09),\n",
    "                                  'rx_if_gain': (0, 40),\n",
    "                                 'rx_vga_gain': (0, 62),\n",
    "                                 'tx_vga_gain': (0, 47),\n",
    "                                 'sensitivity': (0, 1)\n",
    "                                })\n",
    "param_bounds = list(param_bounds_dict.values())\n",
    "\n",
    "Y = [[y] for y in eval(read_lines.split(delim4)[1].split(delim5)[0].replace('\\n','').replace('array', 'np.array'))]\n",
    "Y = np.array(Y)\n",
    "\n",
    "X = eval(read_lines.split(delim5)[1].split(delim6)[0].replace('\\n','').replace('array', 'np.array'))\n",
    "\n",
    "X = np.vstack(X)"
   ]
  },
  {
   "cell_type": "code",
   "execution_count": 288,
   "id": "0c12fa3e",
   "metadata": {},
   "outputs": [],
   "source": [
    "class BoundsScaler():\n",
    "    \"\"\" Scaler based on strict bounds for variables, it scales each bound to [-1,1]\n",
    "    If variable is single-valued it's scaled to 0.\"\"\"\n",
    "    def __init__(self, param_bounds):\n",
    "        self.param_bounds = param_bounds\n",
    "\n",
    "    def fit(self, X):  # just for compatibility with 'sklearn.preprocessing.StandardScaler'\n",
    "        pass\n",
    "\n",
    "    def transform(self, X):\n",
    "\n",
    "        X = X.copy()\n",
    "        for j, bnds in enumerate(self.param_bounds):\n",
    "\n",
    "            if len(bnds) == 1:\n",
    "                X[:, j] = 0\n",
    "\n",
    "            if len(bnds) == 2:\n",
    "                L_bnds = bnds[1] - bnds[0]\n",
    "                X[:, j] = 2 * (X[:, j] - bnds[0]) / L_bnds - 1\n",
    "\n",
    "        return X\n",
    "\n",
    "    def inverse_transform(self, X):\n",
    "        X = X.copy()\n",
    "        for j, bnds in enumerate(self.param_bounds):\n",
    "\n",
    "            if len(bnds) == 1:\n",
    "                X[:, j] = bnds[0]\n",
    "\n",
    "            if len(bnds) == 2:\n",
    "                L_bnds = bnds[1] - bnds[0]\n",
    "                X[:, j] = bnds[0] + L_bnds * (1 + X[:, j]) / 2\n",
    "\n",
    "        return X"
   ]
  },
  {
   "cell_type": "code",
   "execution_count": 289,
   "id": "d96739f8",
   "metadata": {},
   "outputs": [],
   "source": [
    "BoundsScaler_ = BoundsScaler(param_bounds)"
   ]
  },
  {
   "cell_type": "code",
   "execution_count": 293,
   "id": "60396249",
   "metadata": {},
   "outputs": [],
   "source": [
    "X__ = BoundsScaler_.transform(X)"
   ]
  },
  {
   "cell_type": "code",
   "execution_count": 269,
   "id": "0a928287",
   "metadata": {},
   "outputs": [
    {
     "data": {
      "text/plain": [
       "array([[ 1.],\n",
       "       [ 4.],\n",
       "       [ 8.],\n",
       "       [12.],\n",
       "       [ 8.],\n",
       "       [ 6.],\n",
       "       [ 8.],\n",
       "       [15.],\n",
       "       [10.],\n",
       "       [10.],\n",
       "       [ 1.],\n",
       "       [ 5.],\n",
       "       [ 9.],\n",
       "       [ 8.],\n",
       "       [ 5.],\n",
       "       [ 7.],\n",
       "       [10.],\n",
       "       [ 8.],\n",
       "       [ 7.],\n",
       "       [ 9.]])"
      ]
     },
     "execution_count": 269,
     "metadata": {},
     "output_type": "execute_result"
    }
   ],
   "source": [
    "Y"
   ]
  },
  {
   "cell_type": "code",
   "execution_count": 270,
   "id": "5ba00eea",
   "metadata": {},
   "outputs": [
    {
     "data": {
      "text/plain": [
       "array([[0.],\n",
       "       [0.],\n",
       "       [0.],\n",
       "       [0.],\n",
       "       [0.],\n",
       "       [0.],\n",
       "       [0.],\n",
       "       [0.],\n",
       "       [0.],\n",
       "       [7.],\n",
       "       [0.],\n",
       "       [0.],\n",
       "       [0.],\n",
       "       [1.],\n",
       "       [0.],\n",
       "       [2.],\n",
       "       [0.],\n",
       "       [7.],\n",
       "       [0.],\n",
       "       [0.],\n",
       "       [5.]])"
      ]
     },
     "execution_count": 270,
     "metadata": {},
     "output_type": "execute_result"
    }
   ],
   "source": [
    "Y_init"
   ]
  },
  {
   "cell_type": "code",
   "execution_count": 275,
   "id": "df50b699",
   "metadata": {},
   "outputs": [
    {
     "data": {
      "text/plain": [
       "Text(0.5, 0, 'search step')"
      ]
     },
     "execution_count": 275,
     "metadata": {},
     "output_type": "execute_result"
    },
    {
     "data": {
      "image/png": "[encoded data removed]",
      "text/plain": [
       "<Figure size 432x288 with 1 Axes>"
      ]
     },
     "metadata": {
      "needs_background": "light"
     },
     "output_type": "display_data"
    }
   ],
   "source": [
    "N_total_points = Y_init.shape[0] +  Y.shape[0] \n",
    "\n",
    "\n",
    "X_init_indcs = [j for j in range(Y_init.shape[0])]  \n",
    "X_sequential_indcs = [j for j in range(Y_init.shape[0], N_total_points)] \n",
    "plt.plot(X_init_indcs,Y_init, '+')\n",
    "plt.plot(X_sequential_indcs, Y,'o')\n",
    "plt.ylabel('# [messages passed]')\n",
    "plt.xlabel('search step')"
   ]
  },
  {
   "cell_type": "code",
   "execution_count": 296,
   "id": "af877177",
   "metadata": {},
   "outputs": [
    {
     "data": {
      "text/plain": [
       "Text(0, 0.5, 'distance to the last point')"
      ]
     },
     "execution_count": 296,
     "metadata": {},
     "output_type": "execute_result"
    },
    {
     "data": {
      "image/png": "[encoded data removed]",
      "text/plain": [
       "<Figure size 432x288 with 1 Axes>"
      ]
     },
     "metadata": {
      "needs_background": "light"
     },
     "output_type": "display_data"
    }
   ],
   "source": [
    "#CONVERGENCE TO FINAL POINT\n",
    "\n",
    "plt.plot(np.linalg.norm(X__ - X__[-1,:], axis = 1), '-o')\n",
    "plt.xlabel('search step')\n",
    "plt.ylabel('distance to the last point')\n"
   ]
  },
  {
   "cell_type": "code",
   "execution_count": null,
   "id": "4e72a2e1",
   "metadata": {},
   "outputs": [],
   "source": [
    "\n"
   ]
  },
  {
   "cell_type": "code",
   "execution_count": null,
   "id": "fb5ba315",
   "metadata": {},
   "outputs": [],
   "source": []
  },
  {
   "cell_type": "code",
   "execution_count": null,
   "id": "e09b61db",
   "metadata": {},
   "outputs": [],
   "source": []
  },
  {
   "cell_type": "code",
   "execution_count": null,
   "id": "6dc7514f",
   "metadata": {},
   "outputs": [],
   "source": []
  },
  {
   "cell_type": "code",
   "execution_count": 204,
   "id": "21616b33",
   "metadata": {},
   "outputs": [],
   "source": [
    "N_msgs = 10000  # quantity of messages send per each channel rate testing\n",
    "N_init_points = 5  # quantity of initial points required to build a model\n",
    "# TODO: criterion to choose N_init_points (perhaps, we better need to reach some model quality)\n",
    "# TODO: add early detection of zero-rate points, less than N_msgs should be spent on them\n",
    "\n",
    "N_sequential = 20  # quantity of sequential search trials\n",
    "N_search = 10000  # quantity of search points per trial (quantity of (mean, var) estimates)\n",
    "gauss_thr = 2  # controls filtering of channel_rates close to zero\n",
    "kappa = -1  # determines how new points are chosen -- either mean or variance is preferred\n",
    "            # point with largest (mean + kappa*var) is chosen"
   ]
  },
  {
   "cell_type": "code",
   "execution_count": 205,
   "id": "6d5c8111",
   "metadata": {},
   "outputs": [],
   "source": [
    "GPMaximizer_ = GPMaximizer(param_bounds, N_init_points, N_search)"
   ]
  },
  {
   "cell_type": "code",
   "execution_count": 206,
   "id": "35c17940",
   "metadata": {},
   "outputs": [
    {
     "data": {
      "text/plain": [
       "array([[-1.55],\n",
       "       [-2.55],\n",
       "       [10.45],\n",
       "       [-2.55],\n",
       "       [ 7.45],\n",
       "       [-2.55],\n",
       "       [-2.55],\n",
       "       [-2.55],\n",
       "       [ 5.45],\n",
       "       [ 3.45],\n",
       "       [-2.55],\n",
       "       [-2.55],\n",
       "       [-2.55],\n",
       "       [-2.55],\n",
       "       [ 5.45],\n",
       "       [ 1.45],\n",
       "       [-2.55],\n",
       "       [-2.55],\n",
       "       [-1.55],\n",
       "       [-2.55]])"
      ]
     },
     "execution_count": 206,
     "metadata": {},
     "output_type": "execute_result"
    }
   ],
   "source": [
    "Y_init - np.mean(Y_init, axis = 0)"
   ]
  },
  {
   "cell_type": "code",
   "execution_count": 207,
   "id": "216d2b0d",
   "metadata": {},
   "outputs": [
    {
     "data": {
      "text/plain": [
       "-1.7675447221394207"
      ]
     },
     "execution_count": 207,
     "metadata": {},
     "output_type": "execute_result"
    }
   ],
   "source": [
    "#Y_init = Y_init - np.mean(Y_init, axis = 0)\n",
    "GPMaximizer_.init_scaler(X_init)\n",
    "GPMaximizer_.learn_gp_model(X_init,Y_init)"
   ]
  },
  {
   "cell_type": "code",
   "execution_count": 208,
   "id": "23203000",
   "metadata": {},
   "outputs": [
    {
     "data": {
      "text/plain": [
       "{'kernel.length': array(1.30447352),\n",
       " 'kernel.variance': array(14.93193396),\n",
       " 'noise.variance': array(2.687435)}"
      ]
     },
     "execution_count": 208,
     "metadata": {},
     "output_type": "execute_result"
    }
   ],
   "source": [
    "GPMaximizer_.model_params(format='dict')"
   ]
  },
  {
   "cell_type": "code",
   "execution_count": 209,
   "id": "15b1a14c",
   "metadata": {},
   "outputs": [],
   "source": [
    "Y= Y - np.mean(Y, axis = 0)"
   ]
  },
  {
   "cell_type": "code",
   "execution_count": 210,
   "id": "ec853840",
   "metadata": {},
   "outputs": [
    {
     "data": {
      "text/plain": [
       "array([[ 3.45],\n",
       "       [ 2.45],\n",
       "       [ 0.45],\n",
       "       [ 1.45],\n",
       "       [-2.55],\n",
       "       [ 5.45],\n",
       "       [-2.55],\n",
       "       [ 0.45],\n",
       "       [-3.55],\n",
       "       [-0.55],\n",
       "       [ 0.45],\n",
       "       [ 3.45],\n",
       "       [-1.55],\n",
       "       [-2.55],\n",
       "       [ 2.45],\n",
       "       [-1.55],\n",
       "       [-0.55],\n",
       "       [ 2.45],\n",
       "       [-4.55],\n",
       "       [-2.55]])"
      ]
     },
     "execution_count": 210,
     "metadata": {},
     "output_type": "execute_result"
    }
   ],
   "source": [
    "Y\n",
    "#X"
   ]
  },
  {
   "cell_type": "code",
   "execution_count": 211,
   "id": "5487153d",
   "metadata": {},
   "outputs": [],
   "source": [
    "GPMaximizer_.init_scaler(X_init)"
   ]
  },
  {
   "cell_type": "code",
   "execution_count": 212,
   "id": "42d3a0a2",
   "metadata": {},
   "outputs": [
    {
     "data": {
      "text/plain": [
       "-2.3881294726259705"
      ]
     },
     "execution_count": 212,
     "metadata": {},
     "output_type": "execute_result"
    }
   ],
   "source": [
    "#GPMaximizer_.learn_gp_model(X,Y)"
   ]
  },
  {
   "cell_type": "code",
   "execution_count": 213,
   "id": "05d9b7df",
   "metadata": {},
   "outputs": [
    {
     "data": {
      "text/plain": [
       "array([[2.45700000e+09, 2.45325547e+01, 2.71208884e+01, 3.82214023e+01,\n",
       "        2.90001969e-01],\n",
       "       [2.45700000e+09, 2.89201195e+01, 1.25457304e+01, 3.57521271e+01,\n",
       "        4.00289224e-01],\n",
       "       [2.45700000e+09, 2.27381165e+01, 6.13028881e+01, 3.13351473e+01,\n",
       "        2.18480124e-01],\n",
       "       [2.45700000e+09, 1.44836619e+01, 7.12603554e+00, 8.37160944e+00,\n",
       "        7.35316460e-01],\n",
       "       [2.45700000e+09, 2.78651388e+01, 3.84943226e+01, 2.44148308e+01,\n",
       "        5.40228659e-01],\n",
       "       [2.45700000e+09, 3.44428608e+00, 2.57382989e+01, 4.67901677e+01,\n",
       "        4.52186857e-01],\n",
       "       [2.45700000e+09, 2.98761395e+01, 2.59373796e+01, 2.12103620e+00,\n",
       "        6.82065189e-02],\n",
       "       [2.45700000e+09, 1.36439188e+01, 3.40046595e+01, 3.98530704e+01,\n",
       "        3.21355573e-01],\n",
       "       [2.45700000e+09, 3.09760834e+01, 4.35643943e+01, 2.73875278e+01,\n",
       "        6.46188578e-01],\n",
       "       [2.45700000e+09, 2.15305730e+01, 5.55852372e+01, 3.71617488e+01,\n",
       "        6.41089418e-01],\n",
       "       [2.45700000e+09, 3.37486532e+01, 1.88364038e+00, 1.72674188e+01,\n",
       "        9.75122286e-01],\n",
       "       [2.45700000e+09, 3.98332874e+01, 1.50873829e+01, 2.77726290e+00,\n",
       "        3.49888212e-01],\n",
       "       [2.45700000e+09, 1.03576657e+01, 4.44067905e+00, 4.00820200e+01,\n",
       "        7.07416397e-01],\n",
       "       [2.45700000e+09, 1.58278197e+00, 3.20357755e+01, 3.65314875e+01,\n",
       "        2.93076622e-01],\n",
       "       [2.45700000e+09, 2.55325406e+01, 4.48567537e+01, 2.15252824e+01,\n",
       "        9.05486865e-01],\n",
       "       [2.45700000e+09, 3.69949700e+01, 4.39341680e+01, 4.24544075e+01,\n",
       "        9.22446162e-01],\n",
       "       [2.45700000e+09, 2.26519781e+01, 4.26043206e+01, 8.94682915e+00,\n",
       "        6.33842729e-01],\n",
       "       [2.45700000e+09, 3.96470412e+00, 1.12687901e+01, 3.17205429e+01,\n",
       "        2.22633514e-01],\n",
       "       [2.45700000e+09, 3.65620087e+01, 2.98024388e+01, 3.35083051e+01,\n",
       "        2.73345250e-01],\n",
       "       [2.45700000e+09, 9.05244808e+00, 1.64467447e+01, 2.37042253e+01,\n",
       "        3.27919081e-01]])"
      ]
     },
     "execution_count": 213,
     "metadata": {},
     "output_type": "execute_result"
    }
   ],
   "source": [
    "X_scaled = GPMaximizer_.scaler.transform(X_init)\n",
    "X_scaled[0] - X_scaled[1]\n",
    "#X_init[0], X_init[1]\n",
    "X_init"
   ]
  },
  {
   "cell_type": "code",
   "execution_count": 232,
   "id": "c39581c9",
   "metadata": {},
   "outputs": [
    {
     "data": {
      "text/plain": [
       "array([[ 1.],\n",
       "       [ 0.],\n",
       "       [13.],\n",
       "       [ 0.],\n",
       "       [10.],\n",
       "       [ 0.],\n",
       "       [ 0.],\n",
       "       [ 0.],\n",
       "       [ 8.],\n",
       "       [ 6.],\n",
       "       [ 0.],\n",
       "       [ 0.],\n",
       "       [ 0.],\n",
       "       [ 0.],\n",
       "       [ 8.],\n",
       "       [ 4.],\n",
       "       [ 0.],\n",
       "       [ 0.],\n",
       "       [ 1.],\n",
       "       [ 0.]])"
      ]
     },
     "execution_count": 232,
     "metadata": {},
     "output_type": "execute_result"
    }
   ],
   "source": [
    "Y_init\n"
   ]
  },
  {
   "cell_type": "code",
   "execution_count": 233,
   "id": "097b3272",
   "metadata": {},
   "outputs": [
    {
     "data": {
      "text/plain": [
       "array([[ 3.45],\n",
       "       [ 2.45],\n",
       "       [ 0.45],\n",
       "       [ 1.45],\n",
       "       [-2.55],\n",
       "       [ 5.45],\n",
       "       [-2.55],\n",
       "       [ 0.45],\n",
       "       [-3.55],\n",
       "       [-0.55],\n",
       "       [ 0.45],\n",
       "       [ 3.45],\n",
       "       [-1.55],\n",
       "       [-2.55],\n",
       "       [ 2.45],\n",
       "       [-1.55],\n",
       "       [-0.55],\n",
       "       [ 2.45],\n",
       "       [-4.55],\n",
       "       [-2.55]])"
      ]
     },
     "execution_count": 233,
     "metadata": {},
     "output_type": "execute_result"
    }
   ],
   "source": [
    "Y"
   ]
  }
 ],
 "metadata": {
  "kernelspec": {
   "display_name": "Python 3 (ipykernel)",
   "language": "python",
   "name": "python3"
  },
  "language_info": {
   "codemirror_mode": {
    "name": "ipython",
    "version": 3
   },
   "file_extension": ".py",
   "mimetype": "text/x-python",
   "name": "python",
   "nbconvert_exporter": "python",
   "pygments_lexer": "ipython3",
   "version": "3.10.6"
  }
 },
 "nbformat": 4,
 "nbformat_minor": 5
}
